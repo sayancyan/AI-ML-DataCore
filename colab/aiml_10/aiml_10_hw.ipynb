{
 "cells": [
  {
   "cell_type": "markdown",
   "metadata": {},
   "source": [
    "# Formula of `m` and `c` in code"
   ]
  },
  {
   "cell_type": "markdown",
   "metadata": {},
   "source": [
    "y = mx + c"
   ]
  },
  {
   "cell_type": "markdown",
   "metadata": {},
   "source": [
    "# Functions used"
   ]
  },
  {
   "cell_type": "code",
   "execution_count": 161,
   "metadata": {},
   "outputs": [],
   "source": [
    "# Function to make +ve number\n",
    "def positive(n):\n",
    "  positive_numbers = [abs(i) for i in n]\n",
    "  return positive_numbers\n",
    "\n",
    "# Alternate way to make +ve max_number\n",
    "\n",
    "# def positive(n):\n",
    "#     list = [] \n",
    "#     for i in n:\n",
    "#         p = abs(i)\n",
    "#         list.append(p)\n",
    "#     print(list)"
   ]
  },
  {
   "cell_type": "markdown",
   "metadata": {},
   "source": [
    "# Main"
   ]
  },
  {
   "cell_type": "markdown",
   "metadata": {},
   "source": [
    "## Input x and y values"
   ]
  },
  {
   "cell_type": "code",
   "execution_count": 177,
   "metadata": {},
   "outputs": [],
   "source": [
    "# 'x' & 'y' values in list for testing\n",
    "\n",
    "x = [-5, -4, -3, -2, -1, 0, 1, 2, 3, 4, 5 ]\n",
    "y = [-7, -5, -3, -1, 1, 3, 5, 7, 9, 11, 13 ]"
   ]
  },
  {
   "cell_type": "markdown",
   "metadata": {},
   "source": [
    "## Find 'mean_x' and 'mean_y'"
   ]
  },
  {
   "cell_type": "code",
   "execution_count": 178,
   "metadata": {},
   "outputs": [
    {
     "name": "stdout",
     "output_type": "stream",
     "text": [
      "2.727272727272727\n",
      "5.909090909090909\n"
     ]
    }
   ],
   "source": [
    "px = positive(x)\n",
    "py = positive(y)\n",
    "mean_x = sum(px) / len(px)\n",
    "mean_y = sum(py) / len(py)\n",
    "\n",
    "print(mean_x)\n",
    "print(mean_y)"
   ]
  },
  {
   "cell_type": "markdown",
   "metadata": {},
   "source": [
    "## Numeator and Denomenator"
   ]
  },
  {
   "cell_type": "code",
   "execution_count": 179,
   "metadata": {},
   "outputs": [
    {
     "name": "stdout",
     "output_type": "stream",
     "text": [
      "[99.75206611570248, 73.38842975206612, 51.02479338842975, 32.66115702479338, 18.297520661157023, 7.9338842975206605, 1.5702479338842974, -0.7933884297520658, 0.8429752066115709, 6.479338842975207, 16.115702479338843]\n",
      "307.27272727272725\n"
     ]
    }
   ],
   "source": [
    "num = [(x[i] - mean_x) * (y[i] - mean_y) for i in range(len(x))]\n",
    "num_sum = sum(num)\n",
    "\n",
    "print(num)\n",
    "print(num_sum)"
   ]
  },
  {
   "cell_type": "code",
   "execution_count": 180,
   "metadata": {},
   "outputs": [
    {
     "name": "stdout",
     "output_type": "stream",
     "text": [
      "[59.71074380165288, 45.25619834710743, 32.801652892561975, 22.347107438016522, 13.892561983471072, 7.438016528925619, 2.9834710743801645, 0.5289256198347104, 0.07438016528925631, 1.6198347107438023, 5.165289256198348]\n",
      "191.81818181818178\n"
     ]
    }
   ],
   "source": [
    "dum = [(x[i] - mean_x)**2 for i in range(len(x))]\n",
    "dum_sum = sum(dum)\n",
    "\n",
    "print(dum)\n",
    "print(dum_sum)"
   ]
  },
  {
   "cell_type": "markdown",
   "metadata": {},
   "source": [
    "## Finding 'm' Slope"
   ]
  },
  {
   "cell_type": "code",
   "execution_count": 181,
   "metadata": {},
   "outputs": [
    {
     "name": "stdout",
     "output_type": "stream",
     "text": [
      "1.6018957345971565\n"
     ]
    }
   ],
   "source": [
    "slope = num_sum / dum_sum\n",
    "print(slope)"
   ]
  },
  {
   "cell_type": "markdown",
   "metadata": {},
   "source": [
    "## Finding 'c' intercept"
   ]
  },
  {
   "cell_type": "code",
   "execution_count": 182,
   "metadata": {},
   "outputs": [
    {
     "name": "stdout",
     "output_type": "stream",
     "text": [
      "1.540284360189574\n"
     ]
    }
   ],
   "source": [
    "intercept = mean_y - (slope * mean_x)\n",
    "print(intercept)"
   ]
  },
  {
   "cell_type": "markdown",
   "metadata": {},
   "source": [
    "# Answer"
   ]
  },
  {
   "cell_type": "code",
   "execution_count": 183,
   "metadata": {},
   "outputs": [
    {
     "name": "stdout",
     "output_type": "stream",
     "text": [
      "Slope(m)     =  1.6018957345971565\n",
      "Intercept(c) =  1.540284360189574\n"
     ]
    }
   ],
   "source": [
    "print('Slope(m)     = ', slope)\n",
    "print('Intercept(c) = ', intercept)"
   ]
  }
 ],
 "metadata": {
  "kernelspec": {
   "display_name": "venv",
   "language": "python",
   "name": "python3"
  },
  "language_info": {
   "codemirror_mode": {
    "name": "ipython",
    "version": 3
   },
   "file_extension": ".py",
   "mimetype": "text/x-python",
   "name": "python",
   "nbconvert_exporter": "python",
   "pygments_lexer": "ipython3",
   "version": "3.12.4"
  }
 },
 "nbformat": 4,
 "nbformat_minor": 2
}
