{
 "cells": [
  {
   "cell_type": "markdown",
   "metadata": {},
   "source": [
    "# Formula of `m` and `c` in code"
   ]
  },
  {
   "cell_type": "markdown",
   "metadata": {},
   "source": [
    "y = mx + c"
   ]
  },
  {
   "cell_type": "markdown",
   "metadata": {},
   "source": [
    "# Functions used"
   ]
  },
  {
   "cell_type": "code",
   "execution_count": 149,
   "metadata": {},
   "outputs": [],
   "source": [
    "# Function to make +ve number\n",
    "def positive(n):\n",
    "  positive_numbers = [abs(i) for i in n]\n",
    "  return positive_numbers\n",
    "\n",
    "# Alternate way to make +ve max_number\n",
    "\n",
    "# def positive(n):\n",
    "#     list = [] \n",
    "#     for i in n:\n",
    "#         p = abs(i)\n",
    "#         list.append(p)\n",
    "#     print(list)"
   ]
  },
  {
   "cell_type": "markdown",
   "metadata": {},
   "source": [
    "# Main"
   ]
  },
  {
   "cell_type": "markdown",
   "metadata": {},
   "source": [
    "## Input x and y values"
   ]
  },
  {
   "cell_type": "code",
   "execution_count": 150,
   "metadata": {},
   "outputs": [],
   "source": [
    "# 'x' & 'y' values in list for testing\n",
    "\n",
    "x = [-5, -4, -3, -2, -1, 0, 1, 2, 3, 4, 5 ]\n",
    "y = [-7, -5, -3, -1, 1, 3, 5, 7, 9, 11, 13 ]\n",
    "\n"
   ]
  },
  {
   "cell_type": "markdown",
   "metadata": {},
   "source": [
    "## Find 'mean_x' and 'mean_y'"
   ]
  },
  {
   "cell_type": "code",
   "execution_count": 151,
   "metadata": {},
   "outputs": [],
   "source": [
    "px = positive(x)\n",
    "py = positive(y)\n",
    "mean_x = sum(px) / len(px)\n",
    "mean_y = sum(py) / len(py)"
   ]
  },
  {
   "cell_type": "markdown",
   "metadata": {},
   "source": [
    "## Numeator and Denomenator"
   ]
  },
  {
   "cell_type": "code",
   "execution_count": 152,
   "metadata": {},
   "outputs": [],
   "source": [
    "num = [(x[i] - mean_x) * (y[i] - mean_y) for i in range(len(x))]\n",
    "num_sum = sum(num)"
   ]
  },
  {
   "cell_type": "code",
   "execution_count": 153,
   "metadata": {},
   "outputs": [],
   "source": [
    "dum = [(x[i] - mean_x)**2 for i in range(len(x))]\n",
    "dum_sum = sum(dum)"
   ]
  },
  {
   "cell_type": "markdown",
   "metadata": {},
   "source": [
    "## Finding 'm' Slope"
   ]
  },
  {
   "cell_type": "code",
   "execution_count": 154,
   "metadata": {},
   "outputs": [
    {
     "name": "stdout",
     "output_type": "stream",
     "text": [
      "1.6018957345971565\n"
     ]
    }
   ],
   "source": [
    "slope = num_sum / dum_sum\n",
    "print(slope)"
   ]
  },
  {
   "cell_type": "markdown",
   "metadata": {},
   "source": [
    "## Finding 'c' intercept"
   ]
  },
  {
   "cell_type": "code",
   "execution_count": 155,
   "metadata": {},
   "outputs": [
    {
     "name": "stdout",
     "output_type": "stream",
     "text": [
      "1.540284360189574\n"
     ]
    }
   ],
   "source": [
    "intercept = mean_y - (slope * mean_x)\n",
    "print(intercept)"
   ]
  }
 ],
 "metadata": {
  "kernelspec": {
   "display_name": "venv",
   "language": "python",
   "name": "python3"
  },
  "language_info": {
   "codemirror_mode": {
    "name": "ipython",
    "version": 3
   },
   "file_extension": ".py",
   "mimetype": "text/x-python",
   "name": "python",
   "nbconvert_exporter": "python",
   "pygments_lexer": "ipython3",
   "version": "3.12.4"
  }
 },
 "nbformat": 4,
 "nbformat_minor": 2
}
