{
 "cells": [
  {
   "cell_type": "code",
   "execution_count": 1,
   "metadata": {},
   "outputs": [
    {
     "name": "stdout",
     "output_type": "stream",
     "text": [
      "X =  [5, 4, 3, 2, 1, 0, 1, 2, 3, 4, 5]\n",
      "Y =  [7, 5, 3, 1, 1, 3, 5, 7, 9, 11, 13]\n",
      "Mean of X :  2.727272727272727\n",
      "Mean of Y :  5.909090909090909\n",
      "Value of 'm' :  17.237468671679196\n",
      "Value of 'c' :  -41.10218728639781\n"
     ]
    }
   ],
   "source": [
    "#code for'm'\n",
    "# x_val=[]\n",
    "# y_val=[]\n",
    "x_val = [-5, -4, -3, -2, -1, 0, 1, 2, 3, 4, 5 ]\n",
    "y_val = [-7, -5, -3, -1, 1, 3, 5, 7, 9, 11, 13 ]\n",
    "abs_x=list(map(abs,x_val))\n",
    "abs_y=list(map(abs,y_val))\n",
    "\n",
    "x_sum=0\n",
    "y_sum=0\n",
    "#n=int(input(\"Enter the value of n : \"))\n",
    "for i in range(len(x_val)):\n",
    "  # x= int(input(\"Enter the value of x : \"))\n",
    "  # y= int(input(\"Enter the value of y : \"))\n",
    "\n",
    "  # x_val.append(x)\n",
    "  # y_val.append(y)\n",
    "\n",
    "  x_sum=x_sum+abs_x[i]\n",
    "  x_mean=x_sum/len(x_val)\n",
    "\n",
    "  y_sum=y_sum+abs_y[i]\n",
    "  y_mean=y_sum/len(y_val)\n",
    "\n",
    "\n",
    "print(\"X = \",str(abs_x))\n",
    "print(\"Y = \",str(abs_y))\n",
    "print(\"Mean of X : \",x_mean)\n",
    "print(\"Mean of Y : \",y_mean)\n",
    "\n",
    "m=0\n",
    "for i in range(len(abs_x)):\n",
    " m=m+((abs_x[i]-x_mean)*(abs_y[i]-y_mean))/((abs_x[i]-x_mean)**2)\n",
    "\n",
    "print(\"Value of 'm' : \",m)\n",
    "\n",
    "#code for 'c'\n",
    "c=y_mean-(m*x_mean)\n",
    "print(\"Value of 'c' : \",c)"
   ]
  }
 ],
 "metadata": {
  "kernelspec": {
   "display_name": "venv",
   "language": "python",
   "name": "python3"
  },
  "language_info": {
   "codemirror_mode": {
    "name": "ipython",
    "version": 3
   },
   "file_extension": ".py",
   "mimetype": "text/x-python",
   "name": "python",
   "nbconvert_exporter": "python",
   "pygments_lexer": "ipython3",
   "version": "3.12.4"
  }
 },
 "nbformat": 4,
 "nbformat_minor": 2
}
