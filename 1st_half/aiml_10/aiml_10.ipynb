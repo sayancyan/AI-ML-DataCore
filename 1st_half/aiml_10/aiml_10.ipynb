{
 "cells": [
  {
   "cell_type": "markdown",
   "metadata": {},
   "source": [
    "# Regression"
   ]
  },
  {
   "cell_type": "markdown",
   "metadata": {},
   "source": [
    "HW : Examples of classification and regression "
   ]
  },
  {
   "cell_type": "markdown",
   "metadata": {},
   "source": [
    "HW : Make the m and c formula in code"
   ]
  },
  {
   "cell_type": "markdown",
   "metadata": {},
   "source": [
    "HW: Use sklearn to split the data \n",
    "Use train_test_split function\n",
    "Use linear Regression using an object\n"
   ]
  },
  {
   "cell_type": "markdown",
   "metadata": {},
   "source": [
    "## Linear Regression\n",
    "- Continiously increasing or decreasing"
   ]
  }
 ],
 "metadata": {
  "language_info": {
   "name": "python"
  }
 },
 "nbformat": 4,
 "nbformat_minor": 2
}
