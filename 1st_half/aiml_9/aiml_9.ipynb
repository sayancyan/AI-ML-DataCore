{
 "cells": [
  {
   "cell_type": "markdown",
   "metadata": {},
   "source": [
    "# Introduction\n",
    "Machine Learning\n",
    " - Supervised Learning : With human intervention\n",
    "   - Classification\n",
    "     - Universal truth\n",
    "     - Output is a a part of input\n",
    "     - Discrete number\n",
    "     - Eg: Will KKR win tomorrw's match ? ( YES / NO )\n",
    "\n",
    "\n",
    "   - Regression\n",
    "     - No universal truth\n",
    "     - Output maybe a part of of input or not\n",
    "     - Real number or continious number\n",
    "     - Eg: How much will KKR score in tomorrows match ? ( variable amount )\n",
    "\n",
    " - Unsupervised Learning : Without human intervension\n",
    " - Reinforcement Learning : Learns from mistakes"
   ]
  }
 ],
 "metadata": {
  "kernelspec": {
   "display_name": "venv",
   "language": "python",
   "name": "python3"
  },
  "language_info": {
   "name": "python",
   "version": "3.12.4"
  }
 },
 "nbformat": 4,
 "nbformat_minor": 2
}
