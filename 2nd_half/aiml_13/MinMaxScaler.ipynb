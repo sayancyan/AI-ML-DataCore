{
 "cells": [
  {
   "cell_type": "markdown",
   "metadata": {},
   "source": [
    "# Data Preprocessing"
   ]
  },
  {
   "cell_type": "markdown",
   "metadata": {},
   "source": [
    "## Importing libraries"
   ]
  },
  {
   "cell_type": "code",
   "execution_count": 31,
   "metadata": {},
   "outputs": [],
   "source": [
    "from pandas import read_csv\n",
    "from numpy import set_printoptions\n",
    "from sklearn import preprocessing\n"
   ]
  },
  {
   "cell_type": "markdown",
   "metadata": {},
   "source": [
    "## Adding dataset path & Reading file"
   ]
  },
  {
   "cell_type": "code",
   "execution_count": 32,
   "metadata": {},
   "outputs": [],
   "source": [
    "path = r'diabetes.csv'"
   ]
  },
  {
   "cell_type": "code",
   "execution_count": 33,
   "metadata": {},
   "outputs": [],
   "source": [
    "names = ['preg', 'plas', 'pres', 'skin', 'test', 'mass', 'pedi', 'age', 'class']\n",
    "dataframe = read_csv(path, names = names , header = 0)\n",
    "array = dataframe.values"
   ]
  },
  {
   "cell_type": "markdown",
   "metadata": {},
   "source": [
    "\n",
    "---\n",
    "## Using MinMaxScaler range (0 - 1)"
   ]
  },
  {
   "cell_type": "code",
   "execution_count": 34,
   "metadata": {},
   "outputs": [],
   "source": [
    "data_scaler = preprocessing.MinMaxScaler(feature_range=(0, 1))\n",
    "data_rescaled = data_scaler.fit_transform(array)"
   ]
  },
  {
   "cell_type": "code",
   "execution_count": 35,
   "metadata": {},
   "outputs": [
    {
     "name": "stdout",
     "output_type": "stream",
     "text": [
      "\n",
      "Scaled data:\n",
      " [[0.4 0.7 0.6 0.4 0.  0.5 0.2 0.5 1. ]\n",
      " [0.1 0.4 0.5 0.3 0.  0.4 0.1 0.2 0. ]\n",
      " [0.5 0.9 0.5 0.  0.  0.3 0.3 0.2 1. ]\n",
      " [0.1 0.4 0.5 0.2 0.1 0.4 0.  0.  0. ]\n",
      " [0.  0.7 0.3 0.4 0.2 0.6 0.9 0.2 1. ]\n",
      " [0.3 0.6 0.6 0.  0.  0.4 0.1 0.2 0. ]\n",
      " [0.2 0.4 0.4 0.3 0.1 0.5 0.1 0.1 1. ]\n",
      " [0.6 0.6 0.  0.  0.  0.5 0.  0.1 0. ]\n",
      " [0.1 1.  0.6 0.5 0.6 0.5 0.  0.5 1. ]\n",
      " [0.5 0.6 0.8 0.  0.  0.  0.1 0.6 1. ]]\n"
     ]
    }
   ],
   "source": [
    "set_printoptions(precision = 1)\n",
    "print(\"\\nScaled data:\\n\", data_rescaled[0:10])"
   ]
  },
  {
   "cell_type": "markdown",
   "metadata": {},
   "source": [
    "## Using Normalizer"
   ]
  }
 ],
 "metadata": {
  "kernelspec": {
   "display_name": "venv",
   "language": "python",
   "name": "python3"
  },
  "language_info": {
   "codemirror_mode": {
    "name": "ipython",
    "version": 3
   },
   "file_extension": ".py",
   "mimetype": "text/x-python",
   "name": "python",
   "nbconvert_exporter": "python",
   "pygments_lexer": "ipython3",
   "version": "3.12.4"
  }
 },
 "nbformat": 4,
 "nbformat_minor": 2
}
